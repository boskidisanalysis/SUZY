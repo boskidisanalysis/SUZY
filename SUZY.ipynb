{
  "nbformat": 4,
  "nbformat_minor": 0,
  "metadata": {
    "colab": {
      "name": "SUZY.ipynb",
      "provenance": [],
      "toc_visible": true,
      "authorship_tag": "ABX9TyPkQIQLqyRRiFfxjPMBJ7gP",
      "include_colab_link": true
    },
    "kernelspec": {
      "name": "python3",
      "display_name": "Python 3"
    },
    "language_info": {
      "name": "python"
    }
  },
  "cells": [
    {
      "cell_type": "markdown",
      "metadata": {
        "id": "view-in-github",
        "colab_type": "text"
      },
      "source": [
        "<a href=\"https://colab.research.google.com/github/boskidisanalysis/SUZY/blob/main/SUZY.ipynb\" target=\"_parent\"><img src=\"https://colab.research.google.com/assets/colab-badge.svg\" alt=\"Open In Colab\"/></a>"
      ]
    },
    {
      "cell_type": "markdown",
      "metadata": {
        "id": "ZuJGXDWgcpdm"
      },
      "source": [
        "#SUZY Dataset\n",
        "\n",
        " This is a classification problem to distinguish between a signal process which produces supersymmetric particles and a background process which does not.\n",
        "\n",
        "**Source**:\n",
        "\n",
        "Daniel Whiteson daniel '@' uci.edu, Assistant Professor, Physics & Astronomy, Univ. of California Irvine\n",
        "\n",
        "**Data Set Information**:\n",
        "\n",
        "The data has been produced using Monte Carlo simulations. The first 8 features are kinematic properties measured by the particle detectors in the accelerator. The last ten features are functions of the first 8 features; these are high-level features derived by physicists to help discriminate between the two classes. There is an interest in using deep learning methods to obviate the need for physicists to manually develop such features. Benchmark results using Bayesian Decision Trees from a standard physics package and 5-layer neural networks and the dropout algorithm are presented in the original paper. The last 500,000 examples are used as a test set about your data set.\n",
        "\n",
        "**Attribute Information**:\n",
        "\n",
        "The first column is the class label (1 for signal, 0 for background), followed by the 18 features (8 low-level features then 10 high-level features): lepton 1 pT, lepton 1 eta, lepton 1 phi, lepton 2 pT, lepton 2 eta, lepton 2 phi, missing energy magnitude, missing energy phi, MET_rel, axial MET, M_R, M_TR_2, R, MT2, S_R, M_Delta_R, dPhi_r_b, cos(theta_r1). For detailed information about each feature see the original paper.\n",
        "\n",
        "**Relevant Papers**:\n",
        "\n",
        "Baldi, P., P. Sadowski, and D. Whiteson. “Searching for Exotic Particles in High-energy Physics with Deep Learning.” Nature Communications 5 (July 2, 2014)\n"
      ]
    },
    {
      "cell_type": "code",
      "metadata": {
        "id": "8WjuVjWfm-yk"
      },
      "source": [
        "import pandas as pd \n",
        "import numpy as np \n",
        "import matplotlib.pyplot as plt \n",
        "import seaborn as sns "
      ],
      "execution_count": null,
      "outputs": []
    },
    {
      "cell_type": "code",
      "metadata": {
        "id": "L84hQRNQnEH5"
      },
      "source": [
        "!wget -cq https://archive.ics.uci.edu/ml/machine-learning-databases/00279/SUSY.csv.gz"
      ],
      "execution_count": null,
      "outputs": []
    },
    {
      "cell_type": "code",
      "metadata": {
        "id": "Iu6f8MR5pZE-"
      },
      "source": [
        "columns = ['target', 'lepton 1 pT', 'lepton 1 eta', 'lepton 1 phi', 'lepton 2 pT', 'lepton 2 eta', 'lepton 2 phi', 'missing energy magnitude', 'missing energy phi', 'MET_rel', 'axial MET', 'M_R', 'M_TR_2', 'R', 'MT2', 'S_R', 'M_Delta_R', 'dPhi_r_b', 'cos(theta_r1)']"
      ],
      "execution_count": null,
      "outputs": []
    },
    {
      "cell_type": "code",
      "metadata": {
        "id": "t7ljIIMAuzH_"
      },
      "source": [
        "low_level = ['lepton 1 pT', 'lepton 1 eta', 'lepton 1 phi', 'lepton 2 pT', 'lepton 2 eta', 'lepton 2 phi', 'missing energy magnitude', 'missing energy phi']\n",
        "high_level = ['MET_rel', 'axial MET', 'M_R', 'M_TR_2', 'R', 'MT2', 'S_R', 'M_Delta_R', 'dPhi_r_b', 'cos(theta_r1)']"
      ],
      "execution_count": null,
      "outputs": []
    },
    {
      "cell_type": "code",
      "metadata": {
        "id": "EQvX4PginEp3"
      },
      "source": [
        "df = pd.read_csv('/content/SUSY.csv.gz', compression='gzip', header=None, nrows=1000000, names= columns)"
      ],
      "execution_count": null,
      "outputs": []
    },
    {
      "cell_type": "code",
      "metadata": {
        "colab": {
          "base_uri": "https://localhost:8080/",
          "height": 224
        },
        "id": "WUWrVnuJnSfW",
        "outputId": "aec3d6b3-054a-433f-bac3-61a3a87a8cb0"
      },
      "source": [
        "df.head()"
      ],
      "execution_count": null,
      "outputs": [
        {
          "output_type": "execute_result",
          "data": {
            "text/html": [
              "<div>\n",
              "<style scoped>\n",
              "    .dataframe tbody tr th:only-of-type {\n",
              "        vertical-align: middle;\n",
              "    }\n",
              "\n",
              "    .dataframe tbody tr th {\n",
              "        vertical-align: top;\n",
              "    }\n",
              "\n",
              "    .dataframe thead th {\n",
              "        text-align: right;\n",
              "    }\n",
              "</style>\n",
              "<table border=\"1\" class=\"dataframe\">\n",
              "  <thead>\n",
              "    <tr style=\"text-align: right;\">\n",
              "      <th></th>\n",
              "      <th>target</th>\n",
              "      <th>lepton 1 pT</th>\n",
              "      <th>lepton 1 eta</th>\n",
              "      <th>lepton 1 phi</th>\n",
              "      <th>lepton 2 pT</th>\n",
              "      <th>lepton 2 eta</th>\n",
              "      <th>lepton 2 phi</th>\n",
              "      <th>missing energy magnitude</th>\n",
              "      <th>missing energy phi</th>\n",
              "      <th>MET_rel</th>\n",
              "      <th>axial MET</th>\n",
              "      <th>M_R</th>\n",
              "      <th>M_TR_2</th>\n",
              "      <th>R</th>\n",
              "      <th>MT2</th>\n",
              "      <th>S_R</th>\n",
              "      <th>M_Delta_R</th>\n",
              "      <th>dPhi_r_b</th>\n",
              "      <th>cos(theta_r1)</th>\n",
              "    </tr>\n",
              "  </thead>\n",
              "  <tbody>\n",
              "    <tr>\n",
              "      <th>0</th>\n",
              "      <td>0.0</td>\n",
              "      <td>0.972861</td>\n",
              "      <td>0.653855</td>\n",
              "      <td>1.176225</td>\n",
              "      <td>1.157156</td>\n",
              "      <td>-1.739873</td>\n",
              "      <td>-0.874309</td>\n",
              "      <td>0.567765</td>\n",
              "      <td>-0.175000</td>\n",
              "      <td>0.810061</td>\n",
              "      <td>-0.252552</td>\n",
              "      <td>1.921887</td>\n",
              "      <td>0.889637</td>\n",
              "      <td>0.410772</td>\n",
              "      <td>1.145621</td>\n",
              "      <td>1.932632</td>\n",
              "      <td>0.994464</td>\n",
              "      <td>1.367815</td>\n",
              "      <td>0.040714</td>\n",
              "    </tr>\n",
              "    <tr>\n",
              "      <th>1</th>\n",
              "      <td>1.0</td>\n",
              "      <td>1.667973</td>\n",
              "      <td>0.064191</td>\n",
              "      <td>-1.225171</td>\n",
              "      <td>0.506102</td>\n",
              "      <td>-0.338939</td>\n",
              "      <td>1.672543</td>\n",
              "      <td>3.475464</td>\n",
              "      <td>-1.219136</td>\n",
              "      <td>0.012955</td>\n",
              "      <td>3.775174</td>\n",
              "      <td>1.045977</td>\n",
              "      <td>0.568051</td>\n",
              "      <td>0.481928</td>\n",
              "      <td>0.000000</td>\n",
              "      <td>0.448410</td>\n",
              "      <td>0.205356</td>\n",
              "      <td>1.321893</td>\n",
              "      <td>0.377584</td>\n",
              "    </tr>\n",
              "    <tr>\n",
              "      <th>2</th>\n",
              "      <td>1.0</td>\n",
              "      <td>0.444840</td>\n",
              "      <td>-0.134298</td>\n",
              "      <td>-0.709972</td>\n",
              "      <td>0.451719</td>\n",
              "      <td>-1.613871</td>\n",
              "      <td>-0.768661</td>\n",
              "      <td>1.219918</td>\n",
              "      <td>0.504026</td>\n",
              "      <td>1.831248</td>\n",
              "      <td>-0.431385</td>\n",
              "      <td>0.526283</td>\n",
              "      <td>0.941514</td>\n",
              "      <td>1.587535</td>\n",
              "      <td>2.024308</td>\n",
              "      <td>0.603498</td>\n",
              "      <td>1.562374</td>\n",
              "      <td>1.135454</td>\n",
              "      <td>0.180910</td>\n",
              "    </tr>\n",
              "    <tr>\n",
              "      <th>3</th>\n",
              "      <td>1.0</td>\n",
              "      <td>0.381256</td>\n",
              "      <td>-0.976145</td>\n",
              "      <td>0.693152</td>\n",
              "      <td>0.448959</td>\n",
              "      <td>0.891753</td>\n",
              "      <td>-0.677328</td>\n",
              "      <td>2.033060</td>\n",
              "      <td>1.533041</td>\n",
              "      <td>3.046260</td>\n",
              "      <td>-1.005285</td>\n",
              "      <td>0.569386</td>\n",
              "      <td>1.015211</td>\n",
              "      <td>1.582217</td>\n",
              "      <td>1.551914</td>\n",
              "      <td>0.761215</td>\n",
              "      <td>1.715464</td>\n",
              "      <td>1.492257</td>\n",
              "      <td>0.090719</td>\n",
              "    </tr>\n",
              "    <tr>\n",
              "      <th>4</th>\n",
              "      <td>1.0</td>\n",
              "      <td>1.309996</td>\n",
              "      <td>-0.690089</td>\n",
              "      <td>-0.676259</td>\n",
              "      <td>1.589283</td>\n",
              "      <td>-0.693326</td>\n",
              "      <td>0.622907</td>\n",
              "      <td>1.087562</td>\n",
              "      <td>-0.381742</td>\n",
              "      <td>0.589204</td>\n",
              "      <td>1.365479</td>\n",
              "      <td>1.179295</td>\n",
              "      <td>0.968218</td>\n",
              "      <td>0.728563</td>\n",
              "      <td>0.000000</td>\n",
              "      <td>1.083158</td>\n",
              "      <td>0.043429</td>\n",
              "      <td>1.154854</td>\n",
              "      <td>0.094859</td>\n",
              "    </tr>\n",
              "  </tbody>\n",
              "</table>\n",
              "</div>"
            ],
            "text/plain": [
              "   target  lepton 1 pT  lepton 1 eta  ...  M_Delta_R  dPhi_r_b  cos(theta_r1)\n",
              "0     0.0     0.972861      0.653855  ...   0.994464  1.367815       0.040714\n",
              "1     1.0     1.667973      0.064191  ...   0.205356  1.321893       0.377584\n",
              "2     1.0     0.444840     -0.134298  ...   1.562374  1.135454       0.180910\n",
              "3     1.0     0.381256     -0.976145  ...   1.715464  1.492257       0.090719\n",
              "4     1.0     1.309996     -0.690089  ...   0.043429  1.154854       0.094859\n",
              "\n",
              "[5 rows x 19 columns]"
            ]
          },
          "metadata": {},
          "execution_count": 6
        }
      ]
    },
    {
      "cell_type": "code",
      "metadata": {
        "colab": {
          "base_uri": "https://localhost:8080/",
          "height": 645
        },
        "id": "9iJwZiQmpDln",
        "outputId": "2fc4e777-0713-4c05-c585-999a5453795b"
      },
      "source": [
        "df.describe().T"
      ],
      "execution_count": null,
      "outputs": [
        {
          "output_type": "execute_result",
          "data": {
            "text/html": [
              "<div>\n",
              "<style scoped>\n",
              "    .dataframe tbody tr th:only-of-type {\n",
              "        vertical-align: middle;\n",
              "    }\n",
              "\n",
              "    .dataframe tbody tr th {\n",
              "        vertical-align: top;\n",
              "    }\n",
              "\n",
              "    .dataframe thead th {\n",
              "        text-align: right;\n",
              "    }\n",
              "</style>\n",
              "<table border=\"1\" class=\"dataframe\">\n",
              "  <thead>\n",
              "    <tr style=\"text-align: right;\">\n",
              "      <th></th>\n",
              "      <th>count</th>\n",
              "      <th>mean</th>\n",
              "      <th>std</th>\n",
              "      <th>min</th>\n",
              "      <th>25%</th>\n",
              "      <th>50%</th>\n",
              "      <th>75%</th>\n",
              "      <th>max</th>\n",
              "    </tr>\n",
              "  </thead>\n",
              "  <tbody>\n",
              "    <tr>\n",
              "      <th>target</th>\n",
              "      <td>1000000.0</td>\n",
              "      <td>0.457925</td>\n",
              "      <td>0.498227</td>\n",
              "      <td>0.000000e+00</td>\n",
              "      <td>0.000000</td>\n",
              "      <td>0.000000</td>\n",
              "      <td>1.000000</td>\n",
              "      <td>1.000000</td>\n",
              "    </tr>\n",
              "    <tr>\n",
              "      <th>lepton 1 pT</th>\n",
              "      <td>1000000.0</td>\n",
              "      <td>1.000404</td>\n",
              "      <td>0.686732</td>\n",
              "      <td>2.555066e-01</td>\n",
              "      <td>0.562287</td>\n",
              "      <td>0.791416</td>\n",
              "      <td>1.205369</td>\n",
              "      <td>19.949631</td>\n",
              "    </tr>\n",
              "    <tr>\n",
              "      <th>lepton 1 eta</th>\n",
              "      <td>1000000.0</td>\n",
              "      <td>-0.000492</td>\n",
              "      <td>1.003179</td>\n",
              "      <td>-2.102919e+00</td>\n",
              "      <td>-0.757760</td>\n",
              "      <td>-0.000930</td>\n",
              "      <td>0.756853</td>\n",
              "      <td>2.101605</td>\n",
              "    </tr>\n",
              "    <tr>\n",
              "      <th>lepton 1 phi</th>\n",
              "      <td>1000000.0</td>\n",
              "      <td>-0.001826</td>\n",
              "      <td>1.001678</td>\n",
              "      <td>-1.734789e+00</td>\n",
              "      <td>-0.869599</td>\n",
              "      <td>-0.002545</td>\n",
              "      <td>0.865741</td>\n",
              "      <td>1.734839</td>\n",
              "    </tr>\n",
              "    <tr>\n",
              "      <th>lepton 2 pT</th>\n",
              "      <td>1000000.0</td>\n",
              "      <td>0.999187</td>\n",
              "      <td>0.654622</td>\n",
              "      <td>4.285881e-01</td>\n",
              "      <td>0.597135</td>\n",
              "      <td>0.799429</td>\n",
              "      <td>1.162328</td>\n",
              "      <td>26.110743</td>\n",
              "    </tr>\n",
              "    <tr>\n",
              "      <th>lepton 2 eta</th>\n",
              "      <td>1000000.0</td>\n",
              "      <td>0.000789</td>\n",
              "      <td>1.002710</td>\n",
              "      <td>-2.059306e+00</td>\n",
              "      <td>-0.767788</td>\n",
              "      <td>0.000505</td>\n",
              "      <td>0.769867</td>\n",
              "      <td>2.059721</td>\n",
              "    </tr>\n",
              "    <tr>\n",
              "      <th>lepton 2 phi</th>\n",
              "      <td>1000000.0</td>\n",
              "      <td>0.000422</td>\n",
              "      <td>1.001668</td>\n",
              "      <td>-1.734202e+00</td>\n",
              "      <td>-0.867474</td>\n",
              "      <td>0.000708</td>\n",
              "      <td>0.868643</td>\n",
              "      <td>1.734686</td>\n",
              "    </tr>\n",
              "    <tr>\n",
              "      <th>missing energy magnitude</th>\n",
              "      <td>1000000.0</td>\n",
              "      <td>1.000920</td>\n",
              "      <td>0.874766</td>\n",
              "      <td>7.088768e-04</td>\n",
              "      <td>0.478996</td>\n",
              "      <td>0.773880</td>\n",
              "      <td>1.207752</td>\n",
              "      <td>19.206709</td>\n",
              "    </tr>\n",
              "    <tr>\n",
              "      <th>missing energy phi</th>\n",
              "      <td>1000000.0</td>\n",
              "      <td>-0.000367</td>\n",
              "      <td>1.001465</td>\n",
              "      <td>-1.727112e+00</td>\n",
              "      <td>-0.867696</td>\n",
              "      <td>-0.009056</td>\n",
              "      <td>0.867531</td>\n",
              "      <td>1.740689</td>\n",
              "    </tr>\n",
              "    <tr>\n",
              "      <th>MET_rel</th>\n",
              "      <td>1000000.0</td>\n",
              "      <td>1.001583</td>\n",
              "      <td>0.889947</td>\n",
              "      <td>9.238942e-07</td>\n",
              "      <td>0.369289</td>\n",
              "      <td>0.803021</td>\n",
              "      <td>1.375473</td>\n",
              "      <td>19.242374</td>\n",
              "    </tr>\n",
              "    <tr>\n",
              "      <th>axial MET</th>\n",
              "      <td>1000000.0</td>\n",
              "      <td>0.001129</td>\n",
              "      <td>1.002791</td>\n",
              "      <td>-1.671863e+01</td>\n",
              "      <td>-0.491853</td>\n",
              "      <td>-0.080252</td>\n",
              "      <td>0.349492</td>\n",
              "      <td>19.592196</td>\n",
              "    </tr>\n",
              "    <tr>\n",
              "      <th>M_R</th>\n",
              "      <td>1000000.0</td>\n",
              "      <td>1.000032</td>\n",
              "      <td>0.628542</td>\n",
              "      <td>2.673070e-01</td>\n",
              "      <td>0.588113</td>\n",
              "      <td>0.828139</td>\n",
              "      <td>1.210776</td>\n",
              "      <td>18.197176</td>\n",
              "    </tr>\n",
              "    <tr>\n",
              "      <th>M_TR_2</th>\n",
              "      <td>1000000.0</td>\n",
              "      <td>1.000196</td>\n",
              "      <td>0.583377</td>\n",
              "      <td>2.427395e-03</td>\n",
              "      <td>0.622350</td>\n",
              "      <td>0.878261</td>\n",
              "      <td>1.220890</td>\n",
              "      <td>16.166821</td>\n",
              "    </tr>\n",
              "    <tr>\n",
              "      <th>R</th>\n",
              "      <td>1000000.0</td>\n",
              "      <td>1.000309</td>\n",
              "      <td>0.470702</td>\n",
              "      <td>6.212773e-03</td>\n",
              "      <td>0.650897</td>\n",
              "      <td>0.935638</td>\n",
              "      <td>1.283321</td>\n",
              "      <td>6.731210</td>\n",
              "    </tr>\n",
              "    <tr>\n",
              "      <th>MT2</th>\n",
              "      <td>1000000.0</td>\n",
              "      <td>1.000514</td>\n",
              "      <td>0.859066</td>\n",
              "      <td>0.000000e+00</td>\n",
              "      <td>0.170330</td>\n",
              "      <td>0.902590</td>\n",
              "      <td>1.613769</td>\n",
              "      <td>19.307304</td>\n",
              "    </tr>\n",
              "    <tr>\n",
              "      <th>S_R</th>\n",
              "      <td>1000000.0</td>\n",
              "      <td>0.999704</td>\n",
              "      <td>0.620413</td>\n",
              "      <td>2.734135e-02</td>\n",
              "      <td>0.598072</td>\n",
              "      <td>0.835226</td>\n",
              "      <td>1.207640</td>\n",
              "      <td>18.228022</td>\n",
              "    </tr>\n",
              "    <tr>\n",
              "      <th>M_Delta_R</th>\n",
              "      <td>1000000.0</td>\n",
              "      <td>1.000230</td>\n",
              "      <td>0.623480</td>\n",
              "      <td>4.452858e-03</td>\n",
              "      <td>0.514011</td>\n",
              "      <td>0.913918</td>\n",
              "      <td>1.384822</td>\n",
              "      <td>14.630604</td>\n",
              "    </tr>\n",
              "    <tr>\n",
              "      <th>dPhi_r_b</th>\n",
              "      <td>1000000.0</td>\n",
              "      <td>0.999281</td>\n",
              "      <td>0.436111</td>\n",
              "      <td>8.224007e-06</td>\n",
              "      <td>0.688247</td>\n",
              "      <td>1.094257</td>\n",
              "      <td>1.368910</td>\n",
              "      <td>1.591660</td>\n",
              "    </tr>\n",
              "    <tr>\n",
              "      <th>cos(theta_r1)</th>\n",
              "      <td>1000000.0</td>\n",
              "      <td>0.225176</td>\n",
              "      <td>0.197049</td>\n",
              "      <td>2.388670e-07</td>\n",
              "      <td>0.069332</td>\n",
              "      <td>0.167534</td>\n",
              "      <td>0.330787</td>\n",
              "      <td>1.000000</td>\n",
              "    </tr>\n",
              "  </tbody>\n",
              "</table>\n",
              "</div>"
            ],
            "text/plain": [
              "                              count      mean  ...       75%        max\n",
              "target                    1000000.0  0.457925  ...  1.000000   1.000000\n",
              "lepton 1 pT               1000000.0  1.000404  ...  1.205369  19.949631\n",
              "lepton 1 eta              1000000.0 -0.000492  ...  0.756853   2.101605\n",
              "lepton 1 phi              1000000.0 -0.001826  ...  0.865741   1.734839\n",
              "lepton 2 pT               1000000.0  0.999187  ...  1.162328  26.110743\n",
              "lepton 2 eta              1000000.0  0.000789  ...  0.769867   2.059721\n",
              "lepton 2 phi              1000000.0  0.000422  ...  0.868643   1.734686\n",
              "missing energy magnitude  1000000.0  1.000920  ...  1.207752  19.206709\n",
              "missing energy phi        1000000.0 -0.000367  ...  0.867531   1.740689\n",
              "MET_rel                   1000000.0  1.001583  ...  1.375473  19.242374\n",
              "axial MET                 1000000.0  0.001129  ...  0.349492  19.592196\n",
              "M_R                       1000000.0  1.000032  ...  1.210776  18.197176\n",
              "M_TR_2                    1000000.0  1.000196  ...  1.220890  16.166821\n",
              "R                         1000000.0  1.000309  ...  1.283321   6.731210\n",
              "MT2                       1000000.0  1.000514  ...  1.613769  19.307304\n",
              "S_R                       1000000.0  0.999704  ...  1.207640  18.228022\n",
              "M_Delta_R                 1000000.0  1.000230  ...  1.384822  14.630604\n",
              "dPhi_r_b                  1000000.0  0.999281  ...  1.368910   1.591660\n",
              "cos(theta_r1)             1000000.0  0.225176  ...  0.330787   1.000000\n",
              "\n",
              "[19 rows x 8 columns]"
            ]
          },
          "metadata": {},
          "execution_count": 22
        }
      ]
    },
    {
      "cell_type": "markdown",
      "metadata": {
        "id": "pamA3hJRjdOp"
      },
      "source": [
        "Target Balance Check"
      ]
    },
    {
      "cell_type": "code",
      "metadata": {
        "colab": {
          "base_uri": "https://localhost:8080/",
          "height": 351
        },
        "id": "zGClato0jY8Z",
        "outputId": "3fbd554e-e1db-4059-f7cd-eb75404d693c"
      },
      "source": [
        "sns.countplot(df.target)"
      ],
      "execution_count": null,
      "outputs": [
        {
          "output_type": "stream",
          "name": "stderr",
          "text": [
            "/usr/local/lib/python3.7/dist-packages/seaborn/_decorators.py:43: FutureWarning: Pass the following variable as a keyword arg: x. From version 0.12, the only valid positional argument will be `data`, and passing other arguments without an explicit keyword will result in an error or misinterpretation.\n",
            "  FutureWarning\n"
          ]
        },
        {
          "output_type": "execute_result",
          "data": {
            "text/plain": [
              "<matplotlib.axes._subplots.AxesSubplot at 0x7f194b95f650>"
            ]
          },
          "metadata": {},
          "execution_count": 21
        },
        {
          "output_type": "display_data",
          "data": {
            "image/png": "[encoded data removed]",
            "text/plain": [
              "<Figure size 432x288 with 1 Axes>"
            ]
          },
          "metadata": {
            "needs_background": "light"
          }
        }
      ]
    },
    {
      "cell_type": "code",
      "metadata": {
        "id": "qSJzrQGiqPE2"
      },
      "source": [
        "features = df.drop('target', axis=1)\n",
        "target = df.target"
      ],
      "execution_count": null,
      "outputs": []
    },
    {
      "cell_type": "code",
      "metadata": {
        "id": "t1h4FjtSgVzG"
      },
      "source": [
        "from sklearn.model_selection import train_test_split\n",
        "\n",
        "x_train, x_test, y_train, y_test = train_test_split(features, target, test_size=0.1, random_state=42)"
      ],
      "execution_count": null,
      "outputs": []
    },
    {
      "cell_type": "code",
      "metadata": {
        "id": "5bOJcI88knNg"
      },
      "source": [
        "x_train_low = x_train.iloc[:,:8]\n",
        "x_train_high = x_train.iloc[:,8:]\n",
        "x_test_low = x_test.iloc[:,:8]\n",
        "x_test_high = x_test.iloc[:,8:]"
      ],
      "execution_count": null,
      "outputs": []
    },
    {
      "cell_type": "markdown",
      "metadata": {
        "id": "yV--TQHGdnlc"
      },
      "source": [
        "## Unsupervised Learning\n",
        "###PCA \n",
        "We will perform dimensionality reduction using Principal Component Analysis in order to inspect whether the low-level features or high-level features explain  the variance of the data the most. "
      ]
    },
    {
      "cell_type": "code",
      "metadata": {
        "id": "bn3wHBr0qfNw"
      },
      "source": [
        "from sklearn.decomposition import PCA"
      ],
      "execution_count": null,
      "outputs": []
    },
    {
      "cell_type": "code",
      "metadata": {
        "id": "sjhA6OiWqtv9"
      },
      "source": [
        "pca = PCA(n_components=2)\n",
        "X_r = pca.fit(features).transform(features)"
      ],
      "execution_count": null,
      "outputs": []
    },
    {
      "cell_type": "code",
      "metadata": {
        "colab": {
          "base_uri": "https://localhost:8080/",
          "height": 312
        },
        "id": "Y0uPpMqpr0SM",
        "outputId": "c14478ba-1af1-465c-8732-c286526d3b09"
      },
      "source": [
        "plt.scatter(X_r[:,0], X_r[:,1])\n",
        "plt.xlabel(f'PC1 (explains {round(pca.explained_variance_ratio_[0]*100,2)} % of the variance)')\n",
        "plt.ylabel(f'PC2 (explains {round(pca.explained_variance_ratio_[1]*100,2)} % of the variance)')\n",
        "plt.title('Full Dataset')"
      ],
      "execution_count": null,
      "outputs": [
        {
          "output_type": "execute_result",
          "data": {
            "text/plain": [
              "Text(0.5, 1.0, 'Full Dataset')"
            ]
          },
          "metadata": {},
          "execution_count": 11
        },
        {
          "output_type": "display_data",
          "data": {
            "image/png": "[encoded data removed]",
            "text/plain": [
              "<Figure size 432x288 with 1 Axes>"
            ]
          },
          "metadata": {
            "needs_background": "light"
          }
        }
      ]
    },
    {
      "cell_type": "code",
      "metadata": {
        "colab": {
          "base_uri": "https://localhost:8080/",
          "height": 312
        },
        "id": "7gpM9FdrsZIU",
        "outputId": "bc84188e-d983-4d37-c217-4c7b79c261bd"
      },
      "source": [
        "colors = ['blue', 'red']\n",
        "for i, color in zip([0,1], colors):\n",
        "  plt.scatter(X_r[df.target==i, 0], X_r[df.target==i,1], color= color, alpha=0.5)\n",
        "plt.xlabel(f'PC1 (explains {round(pca.explained_variance_ratio_[0]*100,2)} % of the variance)')\n",
        "plt.ylabel(f'PC2 (explains {round(pca.explained_variance_ratio_[1]*100,2)} % of the variance)')\n",
        "plt.legend(['Background', 'Signal'])\n",
        "plt.title('Full Dataset')"
      ],
      "execution_count": null,
      "outputs": [
        {
          "output_type": "execute_result",
          "data": {
            "text/plain": [
              "Text(0.5, 1.0, 'Full Dataset')"
            ]
          },
          "metadata": {},
          "execution_count": 12
        },
        {
          "output_type": "display_data",
          "data": {
            "image/png": "[encoded data removed]",
            "text/plain": [
              "<Figure size 432x288 with 1 Axes>"
            ]
          },
          "metadata": {
            "needs_background": "light"
          }
        }
      ]
    },
    {
      "cell_type": "code",
      "metadata": {
        "colab": {
          "base_uri": "https://localhost:8080/"
        },
        "id": "aE2mscD4uGLc",
        "outputId": "8cd6b180-f88a-4066-d2a3-7c057d9552cf"
      },
      "source": [
        "pca.explained_variance_ratio_"
      ],
      "execution_count": null,
      "outputs": [
        {
          "output_type": "execute_result",
          "data": {
            "text/plain": [
              "array([0.21451431, 0.14699142])"
            ]
          },
          "metadata": {},
          "execution_count": 35
        }
      ]
    },
    {
      "cell_type": "code",
      "metadata": {
        "colab": {
          "base_uri": "https://localhost:8080/",
          "height": 330
        },
        "id": "KSEcaEXLtxXk",
        "outputId": "a0aa5db2-7891-4fc0-cbd4-06ae2c58da8c"
      },
      "source": [
        "pca = PCA(n_components=2)\n",
        "X_r_low = pca.fit(features[low_level]).transform(features[low_level])\n",
        "\n",
        "print(pca.explained_variance_ratio_)\n",
        "colors = ['blue', 'red']\n",
        "for i, color in zip([0,1], colors):\n",
        "  plt.scatter(X_r_low[df.target==i, 0], X_r_low[df.target==i,1], color= color, alpha=0.5)\n",
        "colors = ['blue', 'red']\n",
        "for i, color in zip([0,1], colors):\n",
        "  plt.scatter(X_r[df.target==i, 0], X_r[df.target==i,1], color= color, alpha=0.5)\n",
        "plt.xlabel(f'PC1 (explains {round(pca.explained_variance_ratio_[0]*100,2)} % of the variance)')\n",
        "plt.ylabel(f'PC2 (explains {round(pca.explained_variance_ratio_[1]*100,2)} % of the variance)')\n",
        "plt.title('Low-level Features')\n",
        "plt.legend(['Background', 'Signal'])"
      ],
      "execution_count": null,
      "outputs": [
        {
          "output_type": "stream",
          "name": "stdout",
          "text": [
            "[0.21129312 0.19626583]\n"
          ]
        },
        {
          "output_type": "execute_result",
          "data": {
            "text/plain": [
              "<matplotlib.legend.Legend at 0x7f1954cec150>"
            ]
          },
          "metadata": {},
          "execution_count": 19
        },
        {
          "output_type": "display_data",
          "data": {
            "image/png": "[encoded data removed]",
            "text/plain": [
              "<Figure size 432x288 with 1 Axes>"
            ]
          },
          "metadata": {
            "needs_background": "light"
          }
        }
      ]
    },
    {
      "cell_type": "code",
      "metadata": {
        "colab": {
          "base_uri": "https://localhost:8080/",
          "height": 330
        },
        "id": "fa3c47OBvYc-",
        "outputId": "29370cfd-b7ba-4184-b7af-fd790637ec18"
      },
      "source": [
        "pca = PCA(n_components=2)\n",
        "X_r_high = pca.fit(features[high_level]).transform(features[high_level])\n",
        "\n",
        "print(pca.explained_variance_ratio_)\n",
        "colors = ['blue', 'red']\n",
        "for i, color in zip([0,1], colors):\n",
        "  plt.scatter(X_r_high[df.target==i, 0], X_r_high[df.target==i,1], color= color, alpha= 0.5)\n",
        "plt.xlabel(f'PC1 (explains {round(pca.explained_variance_ratio_[0]*100,2)} % of the variance)')\n",
        "plt.ylabel(f'PC2 (explains {round(pca.explained_variance_ratio_[1]*100,2)} % of the variance)')\n",
        "plt.title('High-level Features')\n",
        "plt.legend(['Background', 'Signal'])"
      ],
      "execution_count": null,
      "outputs": [
        {
          "output_type": "stream",
          "name": "stdout",
          "text": [
            "[0.45806813 0.21735891]\n"
          ]
        },
        {
          "output_type": "execute_result",
          "data": {
            "text/plain": [
              "<matplotlib.legend.Legend at 0x7f1951436ed0>"
            ]
          },
          "metadata": {},
          "execution_count": 20
        },
        {
          "output_type": "display_data",
          "data": {
            "image/png": "[encoded data removed]",
            "text/plain": [
              "<Figure size 432x288 with 1 Axes>"
            ]
          },
          "metadata": {
            "needs_background": "light"
          }
        }
      ]
    },
    {
      "cell_type": "markdown",
      "metadata": {
        "id": "6bBUE0xyoLTV"
      },
      "source": [
        "Using high-level features we observe that the principal components explain more percent of the variance of the dataset than only using low-level or both combined. "
      ]
    },
    {
      "cell_type": "markdown",
      "metadata": {
        "id": "1WCKA2QJfhbd"
      },
      "source": [
        "## Supervised Learning\n",
        "We will perform various classification methods and compare their accuracies. As it was observed from Principal Component Analysis we can speculate that usage of high-level features will improve the accuracy of the models. So, we will compare the differences of the whole dataset, the low-level and high-level features. \n",
        "\n"
      ]
    },
    {
      "cell_type": "markdown",
      "metadata": {
        "id": "Lk9tvPthrGMi"
      },
      "source": [
        "### Machine Learning Algorithms"
      ]
    },
    {
      "cell_type": "code",
      "metadata": {
        "id": "A8po1GEMvrFi"
      },
      "source": [
        "from sklearn.linear_model import LogisticRegression"
      ],
      "execution_count": null,
      "outputs": []
    },
    {
      "cell_type": "code",
      "metadata": {
        "colab": {
          "base_uri": "https://localhost:8080/"
        },
        "id": "mNmQ3GQHw9jh",
        "outputId": "4f46eff3-0fc9-423c-dda2-b0887712b992"
      },
      "source": [
        "lgr = LogisticRegression()\n",
        "lgr.fit(features, df.target)\n",
        "lgr.score(features,df.target)"
      ],
      "execution_count": null,
      "outputs": [
        {
          "output_type": "stream",
          "name": "stderr",
          "text": [
            "/usr/local/lib/python3.7/dist-packages/sklearn/linear_model/_logistic.py:818: ConvergenceWarning: lbfgs failed to converge (status=1):\n",
            "STOP: TOTAL NO. of ITERATIONS REACHED LIMIT.\n",
            "\n",
            "Increase the number of iterations (max_iter) or scale the data as shown in:\n",
            "    https://scikit-learn.org/stable/modules/preprocessing.html\n",
            "Please also refer to the documentation for alternative solver options:\n",
            "    https://scikit-learn.org/stable/modules/linear_model.html#logistic-regression\n",
            "  extra_warning_msg=_LOGISTIC_SOLVER_CONVERGENCE_MSG,\n"
          ]
        },
        {
          "output_type": "execute_result",
          "data": {
            "text/plain": [
              "0.788886"
            ]
          },
          "metadata": {},
          "execution_count": 31
        }
      ]
    },
    {
      "cell_type": "code",
      "metadata": {
        "colab": {
          "base_uri": "https://localhost:8080/"
        },
        "id": "T2fctJwUlt7i",
        "outputId": "56053606-f856-4fb8-f775-a0c2465c9cff"
      },
      "source": [
        "lgr_low = LogisticRegression()\n",
        "lgr_low.fit(x_train_low, y_train)\n",
        "lgr_low.score(x_test_low, y_test)"
      ],
      "execution_count": null,
      "outputs": [
        {
          "output_type": "execute_result",
          "data": {
            "text/plain": [
              "0.76794"
            ]
          },
          "metadata": {},
          "execution_count": 32
        }
      ]
    },
    {
      "cell_type": "code",
      "metadata": {
        "colab": {
          "base_uri": "https://localhost:8080/"
        },
        "id": "vuPjzRQjmFXP",
        "outputId": "360ff832-e705-48f8-e9d4-1614ba44f5f2"
      },
      "source": [
        "lgr_high = LogisticRegression()\n",
        "lgr_high.fit(x_train_high, y_train)\n",
        "lgr_high.score(x_test_high, y_test)"
      ],
      "execution_count": null,
      "outputs": [
        {
          "output_type": "execute_result",
          "data": {
            "text/plain": [
              "0.76995"
            ]
          },
          "metadata": {},
          "execution_count": 33
        }
      ]
    },
    {
      "cell_type": "code",
      "metadata": {
        "id": "UjI_cWS8xOQK"
      },
      "source": [
        "from sklearn.feature_selection import f_classif"
      ],
      "execution_count": null,
      "outputs": []
    },
    {
      "cell_type": "code",
      "metadata": {
        "id": "uklgdhHMxr3B"
      },
      "source": [
        "f_clas = f_classif(features, df.target)"
      ],
      "execution_count": null,
      "outputs": []
    },
    {
      "cell_type": "code",
      "metadata": {
        "id": "lkLB_dahxvv6"
      },
      "source": [
        "p_values = f_clas[1]"
      ],
      "execution_count": null,
      "outputs": []
    },
    {
      "cell_type": "code",
      "metadata": {
        "colab": {
          "base_uri": "https://localhost:8080/"
        },
        "id": "nNTEfPQzyRIx",
        "outputId": "3b756ce4-2453-467d-94df-aa24fc896c68"
      },
      "source": [
        "p_values.T"
      ],
      "execution_count": null,
      "outputs": [
        {
          "output_type": "execute_result",
          "data": {
            "text/plain": [
              "array([0.00000000e+000, 8.04025945e-001, 8.96581909e-001, 0.00000000e+000,\n",
              "       7.85294128e-001, 9.97878154e-001, 0.00000000e+000, 2.64635998e-001,\n",
              "       0.00000000e+000, 0.00000000e+000, 0.00000000e+000, 0.00000000e+000,\n",
              "       0.00000000e+000, 0.00000000e+000, 0.00000000e+000, 0.00000000e+000,\n",
              "       1.43054973e-250, 0.00000000e+000])"
            ]
          },
          "metadata": {},
          "execution_count": 55
        }
      ]
    },
    {
      "cell_type": "code",
      "metadata": {
        "id": "5Rpq1KeLyrzq"
      },
      "source": [
        "from sklearn.ensemble import RandomForestClassifier"
      ],
      "execution_count": null,
      "outputs": []
    },
    {
      "cell_type": "code",
      "metadata": {
        "colab": {
          "base_uri": "https://localhost:8080/"
        },
        "id": "83hFu0ks0y9h",
        "outputId": "fe8a15ee-d569-4b3f-be88-57d7a3023124"
      },
      "source": [
        "clf = RandomForestClassifier(n_jobs=-1)\n",
        "clf.fit(features, df.target)\n",
        "clf.score(features, df.target)"
      ],
      "execution_count": null,
      "outputs": [
        {
          "output_type": "execute_result",
          "data": {
            "text/plain": [
              "0.999992"
            ]
          },
          "metadata": {},
          "execution_count": 57
        }
      ]
    },
    {
      "cell_type": "code",
      "metadata": {
        "id": "M3t7YbuT08Qw",
        "colab": {
          "base_uri": "https://localhost:8080/"
        },
        "outputId": "db827ba0-803b-49d9-b774-ceff266efe65"
      },
      "source": [
        "clf_low = RandomForestClassifier(n_jobs=-1)\n",
        "clf_low.fit(x_train_low, y_train)\n",
        "clf_low.score(x_test_low, y_test)"
      ],
      "execution_count": null,
      "outputs": [
        {
          "output_type": "execute_result",
          "data": {
            "text/plain": [
              "0.78361"
            ]
          },
          "metadata": {},
          "execution_count": 35
        }
      ]
    },
    {
      "cell_type": "code",
      "metadata": {
        "id": "tPPGgrksqCPG"
      },
      "source": [
        "clf_low_score = clf_low.score(x_test_low, y_test)"
      ],
      "execution_count": null,
      "outputs": []
    },
    {
      "cell_type": "code",
      "metadata": {
        "colab": {
          "base_uri": "https://localhost:8080/"
        },
        "id": "td3RBFOOqIq-",
        "outputId": "3ef43fc9-ca08-450d-cb85-60962d61fda3"
      },
      "source": [
        "clf_high = RandomForestClassifier(n_jobs=-1)\n",
        "clf_high.fit(x_train_high, y_train)\n"
      ],
      "execution_count": null,
      "outputs": [
        {
          "output_type": "execute_result",
          "data": {
            "text/plain": [
              "RandomForestClassifier(n_jobs=-1)"
            ]
          },
          "metadata": {},
          "execution_count": 38
        }
      ]
    },
    {
      "cell_type": "code",
      "metadata": {
        "colab": {
          "base_uri": "https://localhost:8080/"
        },
        "id": "LVWPwMzzmsuZ",
        "outputId": "fb407afd-98ee-4cfa-d198-b7f2a00f8a55"
      },
      "source": [
        "clf_high.score(x_test_high, y_test)"
      ],
      "execution_count": null,
      "outputs": [
        {
          "output_type": "execute_result",
          "data": {
            "text/plain": [
              "0.78747"
            ]
          },
          "metadata": {},
          "execution_count": 40
        }
      ]
    },
    {
      "cell_type": "code",
      "metadata": {
        "id": "8QteNzlEtD5w"
      },
      "source": [
        "clf_high_score = clf_high.score(x_train_high, y_train)"
      ],
      "execution_count": null,
      "outputs": []
    },
    {
      "cell_type": "code",
      "metadata": {
        "id": "ge7dPakBt6p-"
      },
      "source": [
        "clf_high_preds = clf_high.predict(x_test_high)"
      ],
      "execution_count": null,
      "outputs": []
    },
    {
      "cell_type": "code",
      "metadata": {
        "id": "eDFFjTIsuHT8"
      },
      "source": [
        "clf_low_preds = clf_low.predict(x_test_low)"
      ],
      "execution_count": null,
      "outputs": []
    },
    {
      "cell_type": "code",
      "metadata": {
        "id": "g1akRB1Zqehw"
      },
      "source": [
        "from sklearn.metrics import classification_report"
      ],
      "execution_count": null,
      "outputs": []
    },
    {
      "cell_type": "code",
      "metadata": {
        "colab": {
          "base_uri": "https://localhost:8080/"
        },
        "id": "MkFexeK-tvj0",
        "outputId": "7ec23ed1-64f3-4b62-d675-fa623c45fc65"
      },
      "source": [
        "print('**** Classification Report for High Level Features ****\\n')\n",
        "print(classification_report(y_test, y_pred=clf_high_preds, target_names=['background', 'signal'], digits=3))"
      ],
      "execution_count": null,
      "outputs": [
        {
          "output_type": "stream",
          "name": "stdout",
          "text": [
            "**** Classification Report for High Level Features ****\n",
            "\n",
            "              precision    recall  f1-score   support\n",
            "\n",
            "  background      0.773     0.860     0.814     54194\n",
            "      signal      0.809     0.701     0.751     45806\n",
            "\n",
            "    accuracy                          0.787    100000\n",
            "   macro avg      0.791     0.781     0.783    100000\n",
            "weighted avg      0.790     0.787     0.786    100000\n",
            "\n"
          ]
        }
      ]
    },
    {
      "cell_type": "code",
      "metadata": {
        "colab": {
          "base_uri": "https://localhost:8080/"
        },
        "id": "Deu5TESMugTj",
        "outputId": "8826c9a5-b2b5-4a4c-e89b-213937e5a25c"
      },
      "source": [
        "print('**** Classification Report for Low Level Features ****\\n')\n",
        "print(classification_report(y_test, y_pred=clf_low_preds, target_names=['background', 'signal'], digits=3))"
      ],
      "execution_count": null,
      "outputs": [
        {
          "output_type": "stream",
          "name": "stdout",
          "text": [
            "**** Classification Report for Low Level Features ****\n",
            "\n",
            "              precision    recall  f1-score   support\n",
            "\n",
            "  background      0.769     0.860     0.812     54194\n",
            "      signal      0.807     0.694     0.746     45806\n",
            "\n",
            "    accuracy                          0.784    100000\n",
            "   macro avg      0.788     0.777     0.779    100000\n",
            "weighted avg      0.786     0.784     0.782    100000\n",
            "\n"
          ]
        }
      ]
    },
    {
      "cell_type": "code",
      "metadata": {
        "id": "Su_0e8gWuzez"
      },
      "source": [
        "#TODO\n",
        "##Plot Feature Importances"
      ],
      "execution_count": null,
      "outputs": []
    },
    {
      "cell_type": "markdown",
      "metadata": {
        "id": "r99nF3WGqlxM"
      },
      "source": [
        "### Neural Networks"
      ]
    },
    {
      "cell_type": "code",
      "metadata": {
        "id": "kus7L1vhq2Qq"
      },
      "source": [
        "import tensorflow as tf\n",
        "from tensorflow import keras\n",
        "from tensorflow.keras import layers"
      ],
      "execution_count": null,
      "outputs": []
    },
    {
      "cell_type": "code",
      "metadata": {
        "id": "nLWnbGGgAWQg"
      },
      "source": [
        "normalizer = layers.Normalization(axis=-1)\n",
        "normalizer.adapt(x_train_high)"
      ],
      "execution_count": null,
      "outputs": []
    },
    {
      "cell_type": "code",
      "metadata": {
        "id": "NQGCO42LrRMp"
      },
      "source": [
        "model = keras.Sequential([\n",
        "                          normalizer,\n",
        "                          layers.Dense(32, 'relu'),\n",
        "                          #layers.Dropout(0.5),\n",
        "                          layers.Dense(32, 'relu'),\n",
        "                          layers.Dense(32, 'relu'),\n",
        "                          layers.Dense(32, 'relu'),\n",
        "                          layers.Dense(1,'sigmoid')\n",
        "                          \n",
        "\n",
        "])"
      ],
      "execution_count": null,
      "outputs": []
    },
    {
      "cell_type": "code",
      "metadata": {
        "id": "6HXlp8SXuEeJ"
      },
      "source": [
        "model.compile(optimizer=keras.optimizers.Adam(learning_rate=0.01),\n",
        "              loss=keras.losses.BinaryCrossentropy(),\n",
        "              metrics='accuracy')"
      ],
      "execution_count": null,
      "outputs": []
    },
    {
      "cell_type": "code",
      "metadata": {
        "id": "u2mwGtCDvCBp"
      },
      "source": [
        "callback = tf.keras.callbacks.EarlyStopping(monitor='accuracy', patience=3)"
      ],
      "execution_count": null,
      "outputs": []
    },
    {
      "cell_type": "code",
      "metadata": {
        "colab": {
          "base_uri": "https://localhost:8080/"
        },
        "id": "olIy4W-8udVR",
        "outputId": "c0d562c1-3a67-487b-8b7f-d196feabbeda"
      },
      "source": [
        "history_low = model.fit(x=x_train_high, y=y_train,\n",
        "                        validation_split=0.2,\n",
        "                        batch_size= 512 ,\n",
        "                        epochs = 25,\n",
        "                        callbacks = [callback])"
      ],
      "execution_count": null,
      "outputs": [
        {
          "output_type": "stream",
          "name": "stdout",
          "text": [
            "Epoch 1/25\n",
            "1407/1407 [==============================] - 6s 4ms/step - loss: 0.4540 - accuracy: 0.7892 - val_loss: 0.4483 - val_accuracy: 0.7929\n",
            "Epoch 2/25\n",
            "1407/1407 [==============================] - 4s 3ms/step - loss: 0.4480 - accuracy: 0.7923 - val_loss: 0.4453 - val_accuracy: 0.7931\n",
            "Epoch 3/25\n",
            "1407/1407 [==============================] - 4s 3ms/step - loss: 0.4461 - accuracy: 0.7930 - val_loss: 0.4434 - val_accuracy: 0.7943\n",
            "Epoch 4/25\n",
            "1407/1407 [==============================] - 5s 3ms/step - loss: 0.4450 - accuracy: 0.7933 - val_loss: 0.4460 - val_accuracy: 0.7933\n",
            "Epoch 5/25\n",
            "1407/1407 [==============================] - 4s 3ms/step - loss: 0.4446 - accuracy: 0.7938 - val_loss: 0.4430 - val_accuracy: 0.7947\n",
            "Epoch 6/25\n",
            "1407/1407 [==============================] - 5s 3ms/step - loss: 0.4439 - accuracy: 0.7941 - val_loss: 0.4452 - val_accuracy: 0.7936\n",
            "Epoch 7/25\n",
            "1407/1407 [==============================] - 4s 3ms/step - loss: 0.4436 - accuracy: 0.7944 - val_loss: 0.4436 - val_accuracy: 0.7941\n",
            "Epoch 8/25\n",
            "1407/1407 [==============================] - 5s 3ms/step - loss: 0.4433 - accuracy: 0.7941 - val_loss: 0.4462 - val_accuracy: 0.7933\n",
            "Epoch 9/25\n",
            "1407/1407 [==============================] - 4s 3ms/step - loss: 0.4431 - accuracy: 0.7944 - val_loss: 0.4435 - val_accuracy: 0.7940\n",
            "Epoch 10/25\n",
            "1407/1407 [==============================] - 4s 3ms/step - loss: 0.4431 - accuracy: 0.7946 - val_loss: 0.4453 - val_accuracy: 0.7925\n",
            "Epoch 11/25\n",
            "1407/1407 [==============================] - 5s 3ms/step - loss: 0.4426 - accuracy: 0.7945 - val_loss: 0.4433 - val_accuracy: 0.7944\n",
            "Epoch 12/25\n",
            "1407/1407 [==============================] - 5s 3ms/step - loss: 0.4425 - accuracy: 0.7947 - val_loss: 0.4430 - val_accuracy: 0.7938\n",
            "Epoch 13/25\n",
            "1407/1407 [==============================] - 5s 3ms/step - loss: 0.4422 - accuracy: 0.7949 - val_loss: 0.4420 - val_accuracy: 0.7948\n",
            "Epoch 14/25\n",
            "1407/1407 [==============================] - 5s 3ms/step - loss: 0.4420 - accuracy: 0.7948 - val_loss: 0.4434 - val_accuracy: 0.7941\n",
            "Epoch 15/25\n",
            "1407/1407 [==============================] - 5s 3ms/step - loss: 0.4421 - accuracy: 0.7948 - val_loss: 0.4412 - val_accuracy: 0.7951\n",
            "Epoch 16/25\n",
            "1407/1407 [==============================] - 5s 3ms/step - loss: 0.4418 - accuracy: 0.7948 - val_loss: 0.4420 - val_accuracy: 0.7949\n"
          ]
        }
      ]
    },
    {
      "cell_type": "code",
      "metadata": {
        "colab": {
          "base_uri": "https://localhost:8080/"
        },
        "id": "fO9cCY3vBPzU",
        "outputId": "ef347c6c-d649-4ef5-eacb-963863858040"
      },
      "source": [
        "model.evaluate(x_test_high, y_test)"
      ],
      "execution_count": null,
      "outputs": [
        {
          "output_type": "stream",
          "name": "stdout",
          "text": [
            "3125/3125 [==============================] - 6s 2ms/step - loss: 0.4440 - accuracy: 0.7935\n"
          ]
        },
        {
          "output_type": "execute_result",
          "data": {
            "text/plain": [
              "[0.4439646601676941, 0.7935100197792053]"
            ]
          },
          "metadata": {},
          "execution_count": 114
        }
      ]
    },
    {
      "cell_type": "code",
      "metadata": {
        "colab": {
          "base_uri": "https://localhost:8080/"
        },
        "id": "-CzvuzJXyftw",
        "outputId": "80d5aff6-058c-4367-8862-4e9033613ec2"
      },
      "source": [
        "model.predict(x_test_high[0:15])"
      ],
      "execution_count": null,
      "outputs": [
        {
          "output_type": "execute_result",
          "data": {
            "text/plain": [
              "array([[0.164873  ],\n",
              "       [0.2275055 ],\n",
              "       [0.41705924],\n",
              "       [0.9029983 ],\n",
              "       [0.29177928],\n",
              "       [1.        ],\n",
              "       [0.09811437],\n",
              "       [0.14881495],\n",
              "       [0.9798584 ],\n",
              "       [0.15460047],\n",
              "       [0.9642596 ],\n",
              "       [0.37690505],\n",
              "       [0.11467776],\n",
              "       [0.12736684],\n",
              "       [0.10815513]], dtype=float32)"
            ]
          },
          "metadata": {},
          "execution_count": 115
        }
      ]
    },
    {
      "cell_type": "code",
      "metadata": {
        "colab": {
          "base_uri": "https://localhost:8080/",
          "height": 530
        },
        "id": "4nklMBQd7ce0",
        "outputId": "65195f15-aca7-4043-b784-8ca82d5d64af"
      },
      "source": [
        "history_df = pd.DataFrame(history_low.history)\n",
        "# Start the plot at epoch 5\n",
        "history_df.loc[:, ['loss', 'val_loss']].plot()\n",
        "history_df.loc[:, ['accuracy', 'val_accuracy']].plot()\n"
      ],
      "execution_count": null,
      "outputs": [
        {
          "output_type": "execute_result",
          "data": {
            "text/plain": [
              "<matplotlib.axes._subplots.AxesSubplot at 0x7fe858b0e590>"
            ]
          },
          "metadata": {},
          "execution_count": 119
        },
        {
          "output_type": "display_data",
          "data": {
            "image/png": "[encoded data removed]",
            "text/plain": [
              "<Figure size 432x288 with 1 Axes>"
            ]
          },
          "metadata": {
            "needs_background": "light"
          }
        },
        {
          "output_type": "display_data",
          "data": {
            "image/png": "[encoded data removed]",
            "text/plain": [
              "<Figure size 432x288 with 1 Axes>"
            ]
          },
          "metadata": {
            "needs_background": "light"
          }
        }
      ]
    },
    {
      "cell_type": "code",
      "metadata": {
        "id": "vWUiG6I4CKaQ"
      },
      "source": [
        ""
      ],
      "execution_count": null,
      "outputs": []
    }
  ]
}